{
 "cells": [
  {
   "cell_type": "code",
   "execution_count": 9,
   "metadata": {},
   "outputs": [
    {
     "name": "stdout",
     "output_type": "stream",
     "text": [
      "Prediction Interval: Lower limit = 5.25, Upper limit = 8.35\n"
     ]
    }
   ],
   "source": [
    "import numpy as np\n",
    "from scipy.stats import t\n",
    "\n",
    "# Given data\n",
    "x = 5.2  # GA score\n",
    "y_hat = 8.36 - 0.30 * x  # predicted y using the regression equation\n",
    "MSE = 0.606  # mean squared error\n",
    "n = 9  # sample size\n",
    "x_bar = 5.2  # mean of GA scores\n",
    "S_x2 = 0.1112  # variance of x values\n",
    "\n",
    "# Calculate t critical value for 90% prediction interval with (n-2) degrees of freedom\n",
    "alpha = 0.10  # for a 90% interval, alpha = 1 - 0.90\n",
    "df = n - 2\n",
    "t_crit = t.ppf(1 - alpha/2, df)\n",
    "\n",
    "# Standard error for prediction interval\n",
    "SE_PI = np.sqrt(MSE * (1 + 1/n + ((x - x_bar)**2) / ((n - 1) * S_x2)))\n",
    "\n",
    "# Prediction interval calculation\n",
    "lower_limit = y_hat - t_crit * SE_PI\n",
    "upper_limit = y_hat + t_crit * SE_PI\n",
    "\n",
    "print(f\"Prediction Interval: Lower limit = {lower_limit:.2f}, Upper limit = {upper_limit:.2f}\")\n"
   ]
  }
 ],
 "metadata": {
  "kernelspec": {
   "display_name": "Python 3",
   "language": "python",
   "name": "python3"
  },
  "language_info": {
   "codemirror_mode": {
    "name": "ipython",
    "version": 3
   },
   "file_extension": ".py",
   "mimetype": "text/x-python",
   "name": "python",
   "nbconvert_exporter": "python",
   "pygments_lexer": "ipython3",
   "version": "3.9.18"
  }
 },
 "nbformat": 4,
 "nbformat_minor": 2
}
