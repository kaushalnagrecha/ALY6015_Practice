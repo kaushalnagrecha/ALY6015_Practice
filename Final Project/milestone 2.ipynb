{
 "cells": [
  {
   "cell_type": "code",
   "execution_count": 1,
   "metadata": {},
   "outputs": [],
   "source": [
    "import pandas as pd\n",
    "import numpy as np\n",
    "from sklearn.model_selection import train_test_split\n",
    "from sklearn.linear_model import Lasso, Ridge\n",
    "from sklearn.metrics import mean_squared_error, mean_absolute_error, r2_score\n"
   ]
  },
  {
   "cell_type": "code",
   "execution_count": 2,
   "metadata": {},
   "outputs": [
    {
     "name": "stderr",
     "output_type": "stream",
     "text": [
      "/var/folders/5y/pjrsw60n65124xb_fjnr_68m0000gn/T/ipykernel_85990/594631755.py:2: DtypeWarning: Columns (1,3,7,13) have mixed types. Specify dtype option on import or set low_memory=False.\n",
      "  crime_data = pd.read_csv(\"Crime Data 18+20+22.csv\")\n"
     ]
    }
   ],
   "source": [
    "# Loading crime data -->\n",
    "crime_data = pd.read_csv(\"Crime Data 18+20+22.csv\")"
   ]
  },
  {
   "cell_type": "code",
   "execution_count": 3,
   "metadata": {},
   "outputs": [],
   "source": [
    "crime_data[\"DISTRICT\"].replace('A1', 1, inplace=True)\n",
    "crime_data[\"DISTRICT\"].replace('A15', 1, inplace=True)\n",
    "crime_data[\"DISTRICT\"].replace('A7', 2, inplace=True)\n",
    "crime_data[\"DISTRICT\"].replace('B2', 3, inplace=True)\n",
    "crime_data[\"DISTRICT\"].replace('B3', 4, inplace=True)\n",
    "crime_data[\"DISTRICT\"].replace('C6', 5, inplace=True)\n",
    "crime_data[\"DISTRICT\"].replace('C11', 6, inplace=True)\n",
    "crime_data[\"DISTRICT\"].replace('D4', 7, inplace=True)\n",
    "crime_data[\"DISTRICT\"].replace('D14', 8, inplace=True)\n",
    "crime_data[\"DISTRICT\"].replace('E5', 9, inplace=True)\n",
    "crime_data[\"DISTRICT\"].replace('E13', 10, inplace=True)\n",
    "crime_data[\"DISTRICT\"].replace('E18', 11, inplace=True)\n",
    "crime_data[\"DISTRICT\"].replace('External', 12, inplace=True)\n",
    "crime_data['DAY_OF_WEEK'].replace('Monday', 1, inplace=True)\n",
    "crime_data['DAY_OF_WEEK'].replace('Tuesday', 2, inplace=True)\n",
    "crime_data['DAY_OF_WEEK'].replace('Wednesday', 3, inplace=True)\n",
    "crime_data['DAY_OF_WEEK'].replace('Thursday', 4, inplace=True)\n",
    "crime_data['DAY_OF_WEEK'].replace('Friday', 5, inplace=True)\n",
    "crime_data['DAY_OF_WEEK'].replace('Saturday', 6, inplace=True)\n",
    "crime_data['DAY_OF_WEEK'].replace('Sunday', 7, inplace=True)\n",
    "crime_data[\"DISTRICT\"].dropna(inplace=True)"
   ]
  },
  {
   "cell_type": "code",
   "execution_count": 4,
   "metadata": {},
   "outputs": [
    {
     "data": {
      "text/html": [
       "<div>\n",
       "<style scoped>\n",
       "    .dataframe tbody tr th:only-of-type {\n",
       "        vertical-align: middle;\n",
       "    }\n",
       "\n",
       "    .dataframe tbody tr th {\n",
       "        vertical-align: top;\n",
       "    }\n",
       "\n",
       "    .dataframe thead th {\n",
       "        text-align: right;\n",
       "    }\n",
       "</style>\n",
       "<table border=\"1\" class=\"dataframe\">\n",
       "  <thead>\n",
       "    <tr style=\"text-align: right;\">\n",
       "      <th></th>\n",
       "      <th>DISTRICT</th>\n",
       "      <th>YEAR</th>\n",
       "      <th>MONTH</th>\n",
       "      <th>DAY_OF_WEEK</th>\n",
       "      <th>HOUR</th>\n",
       "      <th>count</th>\n",
       "    </tr>\n",
       "  </thead>\n",
       "  <tbody>\n",
       "    <tr>\n",
       "      <th>0</th>\n",
       "      <td>1.0</td>\n",
       "      <td>2018</td>\n",
       "      <td>1</td>\n",
       "      <td>1</td>\n",
       "      <td>0</td>\n",
       "      <td>19</td>\n",
       "    </tr>\n",
       "    <tr>\n",
       "      <th>1</th>\n",
       "      <td>1.0</td>\n",
       "      <td>2018</td>\n",
       "      <td>1</td>\n",
       "      <td>1</td>\n",
       "      <td>1</td>\n",
       "      <td>12</td>\n",
       "    </tr>\n",
       "    <tr>\n",
       "      <th>2</th>\n",
       "      <td>1.0</td>\n",
       "      <td>2018</td>\n",
       "      <td>1</td>\n",
       "      <td>1</td>\n",
       "      <td>2</td>\n",
       "      <td>9</td>\n",
       "    </tr>\n",
       "    <tr>\n",
       "      <th>3</th>\n",
       "      <td>1.0</td>\n",
       "      <td>2018</td>\n",
       "      <td>1</td>\n",
       "      <td>1</td>\n",
       "      <td>3</td>\n",
       "      <td>7</td>\n",
       "    </tr>\n",
       "    <tr>\n",
       "      <th>4</th>\n",
       "      <td>1.0</td>\n",
       "      <td>2018</td>\n",
       "      <td>1</td>\n",
       "      <td>1</td>\n",
       "      <td>4</td>\n",
       "      <td>1</td>\n",
       "    </tr>\n",
       "  </tbody>\n",
       "</table>\n",
       "</div>"
      ],
      "text/plain": [
       "   DISTRICT  YEAR  MONTH  DAY_OF_WEEK  HOUR  count\n",
       "0       1.0  2018      1            1     0     19\n",
       "1       1.0  2018      1            1     1     12\n",
       "2       1.0  2018      1            1     2      9\n",
       "3       1.0  2018      1            1     3      7\n",
       "4       1.0  2018      1            1     4      1"
      ]
     },
     "execution_count": 4,
     "metadata": {},
     "output_type": "execute_result"
    }
   ],
   "source": [
    "df = crime_data.groupby(by=['DISTRICT', 'YEAR', 'MONTH', 'DAY_OF_WEEK', 'HOUR']).size().reset_index(name='count')\n",
    "df.head()"
   ]
  },
  {
   "cell_type": "code",
   "execution_count": 5,
   "metadata": {},
   "outputs": [],
   "source": [
    "# Split the data into training and testing sets\n",
    "X = df.drop(columns=['count'])\n",
    "y = df['count']\n",
    "X_train, X_test, y_train, y_test = train_test_split(X, y, test_size=0.3, random_state=42)"
   ]
  },
  {
   "cell_type": "code",
   "execution_count": 6,
   "metadata": {},
   "outputs": [],
   "source": [
    "# Create a LASSO regression object\n",
    "lasso = Lasso()\n",
    "\n",
    "# Fit the model to the training data\n",
    "lasso.fit(X_train, y_train)\n",
    "\n",
    "# Make predictions on the testing data\n",
    "y_pred_lasso = lasso.predict(X_test)"
   ]
  },
  {
   "cell_type": "code",
   "execution_count": 7,
   "metadata": {},
   "outputs": [],
   "source": [
    "# Create a Ridge regression object\n",
    "ridge = Ridge()\n",
    "\n",
    "# Fit the model to the training data\n",
    "ridge.fit(X_train, y_train)\n",
    "\n",
    "# Make predictions on the testing data\n",
    "y_pred_ridge = ridge.predict(X_test)"
   ]
  },
  {
   "cell_type": "code",
   "execution_count": 8,
   "metadata": {},
   "outputs": [
    {
     "name": "stdout",
     "output_type": "stream",
     "text": [
      "MSE: 9.505156614045504\n",
      "MAE: 2.336959791977436\n",
      "R2: 0.0607989284551359\n"
     ]
    }
   ],
   "source": [
    "mse = mean_squared_error(y_test, y_pred_lasso)\n",
    "mae = mean_absolute_error(y_test, y_pred_lasso)\n",
    "r2 = r2_score(y_test, y_pred_lasso)\n",
    "\n",
    "print(\"MSE:\", mse)\n",
    "print(\"MAE:\", mae)\n",
    "print(\"R2:\", r2)"
   ]
  },
  {
   "cell_type": "code",
   "execution_count": 9,
   "metadata": {},
   "outputs": [
    {
     "name": "stdout",
     "output_type": "stream",
     "text": [
      "MSE: 9.121771939245745\n",
      "MAE: 2.282924515446434\n",
      "R2: 0.09868102887773589\n"
     ]
    }
   ],
   "source": [
    "mse = mean_squared_error(y_test, y_pred_ridge)\n",
    "mae = mean_absolute_error(y_test, y_pred_ridge)\n",
    "r2 = r2_score(y_test, y_pred_ridge)\n",
    "\n",
    "print(\"MSE:\", mse)\n",
    "print(\"MAE:\", mae)\n",
    "print(\"R2:\", r2)"
   ]
  }
 ],
 "metadata": {
  "kernelspec": {
   "display_name": "Python 3",
   "language": "python",
   "name": "python3"
  },
  "language_info": {
   "codemirror_mode": {
    "name": "ipython",
    "version": 3
   },
   "file_extension": ".py",
   "mimetype": "text/x-python",
   "name": "python",
   "nbconvert_exporter": "python",
   "pygments_lexer": "ipython3",
   "version": "3.9.18"
  }
 },
 "nbformat": 4,
 "nbformat_minor": 2
}
